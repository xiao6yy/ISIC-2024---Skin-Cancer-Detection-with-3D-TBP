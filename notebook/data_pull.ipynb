{
 "cells": [
  {
   "cell_type": "code",
   "execution_count": 3,
   "id": "2a302416-a902-4d1f-8d2e-29e5b048527b",
   "metadata": {},
   "outputs": [],
   "source": [
    "import os, json\n",
    "import pandas as pd\n",
    "from PIL import Image\n",
    "import shutil\n",
    "import plotly.express as px\n",
    "import numpy as np"
   ]
  },
  {
   "cell_type": "code",
   "execution_count": 5,
   "id": "9322e039-dbb0-4f84-a78e-b19a1a4600ee",
   "metadata": {},
   "outputs": [],
   "source": [
    "original_path = \"../data/original\"\n",
    "os.makedirs(original_path, exist_ok=True)"
   ]
  },
  {
   "cell_type": "code",
   "execution_count": null,
   "id": "ea5182db-c31e-4256-8549-33f4d3484b0b",
   "metadata": {},
   "outputs": [],
   "source": [
    "!kaggle competitions download -c 'isic-2024-challenge'\n",
    "!unzip isic-2024-challenge.zip -d ./data/original\n",
    "!rm -r isic-2024-challenge.zip"
   ]
  },
  {
   "cell_type": "code",
   "execution_count": null,
   "id": "756f9d27-de85-4c7e-bdd6-e27151b43012",
   "metadata": {},
   "outputs": [],
   "source": [
    "!pip install isic-cli\n",
    "!isic image download images/"
   ]
  }
 ],
 "metadata": {
  "kernelspec": {
   "display_name": "Python 3 (ipykernel)",
   "language": "python",
   "name": "python3"
  },
  "language_info": {
   "codemirror_mode": {
    "name": "ipython",
    "version": 3
   },
   "file_extension": ".py",
   "mimetype": "text/x-python",
   "name": "python",
   "nbconvert_exporter": "python",
   "pygments_lexer": "ipython3",
   "version": "3.11.9"
  }
 },
 "nbformat": 4,
 "nbformat_minor": 5
}
